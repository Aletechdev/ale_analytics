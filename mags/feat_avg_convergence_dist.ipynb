{
 "cells": [
  {
   "cell_type": "code",
   "execution_count": 1,
   "metadata": {},
   "outputs": [],
   "source": [
    "import pandas as pd\n",
    "pd.set_option('display.max_columns', 100)\n",
    "pd.set_option('display.max_rows', 300)"
   ]
  },
  {
   "cell_type": "code",
   "execution_count": 2,
   "metadata": {},
   "outputs": [
    {
     "data": {
      "text/plain": [
       "3921"
      ]
     },
     "metadata": {},
     "output_type": "display_data"
    },
    {
     "data": {
      "text/html": [
       "<div>\n",
       "<style scoped>\n",
       "    .dataframe tbody tr th:only-of-type {\n",
       "        vertical-align: middle;\n",
       "    }\n",
       "\n",
       "    .dataframe tbody tr th {\n",
       "        vertical-align: top;\n",
       "    }\n",
       "\n",
       "    .dataframe thead th {\n",
       "        text-align: right;\n",
       "    }\n",
       "</style>\n",
       "<table border=\"1\" class=\"dataframe\">\n",
       "  <thead>\n",
       "    <tr style=\"text-align: right;\">\n",
       "      <th></th>\n",
       "      <th>index</th>\n",
       "      <th>exp</th>\n",
       "      <th>ale</th>\n",
       "      <th>flask</th>\n",
       "      <th>isolate</th>\n",
       "      <th>tech_rep</th>\n",
       "      <th>presence</th>\n",
       "      <th>Position</th>\n",
       "      <th>Mutation Type</th>\n",
       "      <th>Sequence Change</th>\n",
       "      <th>Details</th>\n",
       "      <th>mutation target annotation</th>\n",
       "      <th>Reference Seq</th>\n",
       "      <th>sample</th>\n",
       "      <th>sample type</th>\n",
       "      <th>exp ALE</th>\n",
       "      <th>coding</th>\n",
       "      <th>range</th>\n",
       "      <th>gene RegulonDB ID</th>\n",
       "      <th>genetic features</th>\n",
       "      <th>oriC</th>\n",
       "      <th>pseudogene</th>\n",
       "      <th>TFBS</th>\n",
       "      <th>promoter</th>\n",
       "      <th>RBS</th>\n",
       "      <th>attenuator terminator</th>\n",
       "      <th>terminator</th>\n",
       "      <th>genetic</th>\n",
       "      <th>genomic features</th>\n",
       "      <th>genetic feature links</th>\n",
       "      <th>operons</th>\n",
       "      <th>operon links</th>\n",
       "      <th>regulators</th>\n",
       "      <th>regulator links</th>\n",
       "      <th>pathways</th>\n",
       "      <th>pathway links</th>\n",
       "      <th>COGs</th>\n",
       "      <th>COG links</th>\n",
       "      <th>imodulons</th>\n",
       "      <th>imodulon links</th>\n",
       "      <th>EC numbers</th>\n",
       "      <th>EC number links</th>\n",
       "      <th>products</th>\n",
       "      <th>product links</th>\n",
       "      <th>temperature</th>\n",
       "      <th>carbon-source</th>\n",
       "      <th>supplement</th>\n",
       "      <th>strain-description</th>\n",
       "      <th>taxonomy-id</th>\n",
       "      <th>base-media</th>\n",
       "      <th>nitrogen-source</th>\n",
       "      <th>phosphorous-source</th>\n",
       "      <th>sulfur-source</th>\n",
       "      <th>calcium-source</th>\n",
       "    </tr>\n",
       "  </thead>\n",
       "  <tbody>\n",
       "    <tr>\n",
       "      <th>0</th>\n",
       "      <td>9</td>\n",
       "      <td>42C</td>\n",
       "      <td>1</td>\n",
       "      <td>124</td>\n",
       "      <td>1</td>\n",
       "      <td>1</td>\n",
       "      <td>1.0</td>\n",
       "      <td>702352</td>\n",
       "      <td>DEL</td>\n",
       "      <td>Δ21 bp</td>\n",
       "      <td>coding (380‑400/1149 nt)</td>\n",
       "      <td>nagA</td>\n",
       "      <td>NaN</td>\n",
       "      <td>1 124 1 1</td>\n",
       "      <td>clone</td>\n",
       "      <td>42C 1</td>\n",
       "      <td>True</td>\n",
       "      <td>(702352, 702372)</td>\n",
       "      <td>{ECK120000625}</td>\n",
       "      <td>[{'name': 'nagA', 'RegulonDB ID': 'ECK12000062...</td>\n",
       "      <td>False</td>\n",
       "      <td>False</td>\n",
       "      <td>{}</td>\n",
       "      <td>{}</td>\n",
       "      <td>{}</td>\n",
       "      <td>{}</td>\n",
       "      <td>{}</td>\n",
       "      <td>True</td>\n",
       "      <td>[{'name': 'nagA', 'RegulonDB ID': 'ECK12000062...</td>\n",
       "      <td>{'ECK120000625': ['ECK120000625']}</td>\n",
       "      <td>[{'name': 'nagBAC-umpH', 'RegulonDB ID': 'ECK1...</td>\n",
       "      <td>{'ECK125162049': ['ECK120000625']}</td>\n",
       "      <td>[{'name': 'PhoP', 'significantly associated co...</td>\n",
       "      <td>{'NagC': ['ECK125162049'], 'CRP': ['ECK1251620...</td>\n",
       "      <td>[{'name': 'Galactose metabolism', 'significant...</td>\n",
       "      <td>{'Galactose metabolism': ['ECK125162049'], 'Am...</td>\n",
       "      <td>[{'name': 'Carbohydrate transport and metaboli...</td>\n",
       "      <td>{'Carbohydrate transport and metabolism': ['EC...</td>\n",
       "      <td>[{'name': 'NagC/TyrR', 'significantly associat...</td>\n",
       "      <td>{'NagC/TyrR': ['nagBAC-umpH']}</td>\n",
       "      <td>[{'name': '3.5.1.25', 'significantly associate...</td>\n",
       "      <td>{'3.5.1.25': ['ECK125162049', 'ECK125162049']}</td>\n",
       "      <td>[{'name': 'N-acetylglucosamine-6-phosphate dea...</td>\n",
       "      <td>{'N-acetylglucosamine-6-phosphate deacetylase ...</td>\n",
       "      <td>42 celsius</td>\n",
       "      <td>glucose(4)</td>\n",
       "      <td>NaCl(0.5g/L) trace elements</td>\n",
       "      <td>WT</td>\n",
       "      <td>511145</td>\n",
       "      <td>M9</td>\n",
       "      <td>NH4Cl(1)</td>\n",
       "      <td>KH2PO4(3) Na2HPO4(6.8)</td>\n",
       "      <td>MgSO4(0.24)</td>\n",
       "      <td>CaCl2(0.1)</td>\n",
       "    </tr>\n",
       "    <tr>\n",
       "      <th>1</th>\n",
       "      <td>10</td>\n",
       "      <td>42C</td>\n",
       "      <td>1</td>\n",
       "      <td>124</td>\n",
       "      <td>1</td>\n",
       "      <td>1</td>\n",
       "      <td>1.0</td>\n",
       "      <td>1308318</td>\n",
       "      <td>SNP</td>\n",
       "      <td>G→C</td>\n",
       "      <td>R110G (CGT→GGT)</td>\n",
       "      <td>clsA</td>\n",
       "      <td>NaN</td>\n",
       "      <td>1 124 1 1</td>\n",
       "      <td>clone</td>\n",
       "      <td>42C 1</td>\n",
       "      <td>True</td>\n",
       "      <td>(1308318, 1308318)</td>\n",
       "      <td>{ECK120001556}</td>\n",
       "      <td>[{'name': 'clsA', 'RegulonDB ID': 'ECK12000155...</td>\n",
       "      <td>False</td>\n",
       "      <td>False</td>\n",
       "      <td>{}</td>\n",
       "      <td>{}</td>\n",
       "      <td>{}</td>\n",
       "      <td>{}</td>\n",
       "      <td>{}</td>\n",
       "      <td>True</td>\n",
       "      <td>[{'name': 'clsA', 'RegulonDB ID': 'ECK12000155...</td>\n",
       "      <td>{'ECK120001556': ['ECK120001556']}</td>\n",
       "      <td>[{'name': 'clsA-yciU', 'RegulonDB ID': 'ECK125...</td>\n",
       "      <td>{'ECK125147415': ['ECK120001556']}</td>\n",
       "      <td>[]</td>\n",
       "      <td>{}</td>\n",
       "      <td>[]</td>\n",
       "      <td>{}</td>\n",
       "      <td>[{'name': 'Lipid transport and metabolism'}]</td>\n",
       "      <td>{'Lipid transport and metabolism': ['ECK125147...</td>\n",
       "      <td>[]</td>\n",
       "      <td>{}</td>\n",
       "      <td>[]</td>\n",
       "      <td>{}</td>\n",
       "      <td>[]</td>\n",
       "      <td>{}</td>\n",
       "      <td>42 celsius</td>\n",
       "      <td>glucose(4)</td>\n",
       "      <td>NaCl(0.5g/L) trace elements</td>\n",
       "      <td>WT</td>\n",
       "      <td>511145</td>\n",
       "      <td>M9</td>\n",
       "      <td>NH4Cl(1)</td>\n",
       "      <td>KH2PO4(3) Na2HPO4(6.8)</td>\n",
       "      <td>MgSO4(0.24)</td>\n",
       "      <td>CaCl2(0.1)</td>\n",
       "    </tr>\n",
       "    <tr>\n",
       "      <th>2</th>\n",
       "      <td>11</td>\n",
       "      <td>42C</td>\n",
       "      <td>1</td>\n",
       "      <td>124</td>\n",
       "      <td>1</td>\n",
       "      <td>1</td>\n",
       "      <td>1.0</td>\n",
       "      <td>3815859</td>\n",
       "      <td>DEL</td>\n",
       "      <td>Δ82 bp</td>\n",
       "      <td>None</td>\n",
       "      <td>rph</td>\n",
       "      <td>NaN</td>\n",
       "      <td>1 124 1 1</td>\n",
       "      <td>clone</td>\n",
       "      <td>42C 1</td>\n",
       "      <td>True</td>\n",
       "      <td>(3815859, 3815940)</td>\n",
       "      <td>{ECK120000854}</td>\n",
       "      <td>[{'name': 'rph', 'RegulonDB ID': 'ECK120000854...</td>\n",
       "      <td>False</td>\n",
       "      <td>False</td>\n",
       "      <td>{}</td>\n",
       "      <td>{}</td>\n",
       "      <td>{}</td>\n",
       "      <td>{ECK125144791}</td>\n",
       "      <td>{}</td>\n",
       "      <td>True</td>\n",
       "      <td>[{'name': 'rph-pyrE attenuator terminator', 'R...</td>\n",
       "      <td>{'ECK120000854': ['ECK120000854'], 'ECK1200007...</td>\n",
       "      <td>[{'name': 'rph-pyrE', 'RegulonDB ID': 'ECK1200...</td>\n",
       "      <td>{'ECK120014627': ['ECK120000854', 'ECK12000079...</td>\n",
       "      <td>[]</td>\n",
       "      <td>{}</td>\n",
       "      <td>[{'name': 'Pyrimidine metabolism', 'significan...</td>\n",
       "      <td>{'Pyrimidine metabolism': ['ECK120014627'], 'D...</td>\n",
       "      <td>[{'name': 'Nucleotide transport and metabolism'}]</td>\n",
       "      <td>{'Nucleotide transport and metabolism': ['ECK1...</td>\n",
       "      <td>[{'name': 'purR-KO', 'significantly associated...</td>\n",
       "      <td>{'purR-KO': ['rph-pyrE', 'rph-pyrE']}</td>\n",
       "      <td>[{'name': '2.4.2.10', 'significantly associate...</td>\n",
       "      <td>{'2.4.2.10': ['ECK120014627', 'ECK120014627']}</td>\n",
       "      <td>[{'name': 'Orotate phosphoribosyltransferase (...</td>\n",
       "      <td>{'Orotate phosphoribosyltransferase (EC 2.4.2....</td>\n",
       "      <td>42 celsius</td>\n",
       "      <td>glucose(4)</td>\n",
       "      <td>NaCl(0.5g/L) trace elements</td>\n",
       "      <td>WT</td>\n",
       "      <td>511145</td>\n",
       "      <td>M9</td>\n",
       "      <td>NH4Cl(1)</td>\n",
       "      <td>KH2PO4(3) Na2HPO4(6.8)</td>\n",
       "      <td>MgSO4(0.24)</td>\n",
       "      <td>CaCl2(0.1)</td>\n",
       "    </tr>\n",
       "    <tr>\n",
       "      <th>3</th>\n",
       "      <td>12</td>\n",
       "      <td>42C</td>\n",
       "      <td>1</td>\n",
       "      <td>124</td>\n",
       "      <td>1</td>\n",
       "      <td>1</td>\n",
       "      <td>1.0</td>\n",
       "      <td>4187550</td>\n",
       "      <td>SNP</td>\n",
       "      <td>C→T</td>\n",
       "      <td>A734V (GCG→GTG)</td>\n",
       "      <td>rpoC</td>\n",
       "      <td>NaN</td>\n",
       "      <td>1 124 1 1</td>\n",
       "      <td>clone</td>\n",
       "      <td>42C 1</td>\n",
       "      <td>True</td>\n",
       "      <td>(4187550, 4187550)</td>\n",
       "      <td>{ECK120000886}</td>\n",
       "      <td>[{'name': 'rpoC', 'RegulonDB ID': 'ECK12000088...</td>\n",
       "      <td>False</td>\n",
       "      <td>False</td>\n",
       "      <td>{}</td>\n",
       "      <td>{}</td>\n",
       "      <td>{}</td>\n",
       "      <td>{}</td>\n",
       "      <td>{}</td>\n",
       "      <td>True</td>\n",
       "      <td>[{'name': 'rpoC', 'RegulonDB ID': 'ECK12000088...</td>\n",
       "      <td>{'ECK120000886': ['ECK120000886']}</td>\n",
       "      <td>[{'name': 'rplKAJL-rpoBC', 'RegulonDB ID': 'EC...</td>\n",
       "      <td>{'ECK120016992': ['ECK120000886']}</td>\n",
       "      <td>[]</td>\n",
       "      <td>{}</td>\n",
       "      <td>[{'name': 'Purine metabolism', 'significantly ...</td>\n",
       "      <td>{'Purine metabolism': ['ECK120016992'], 'Pyrim...</td>\n",
       "      <td>[{'name': 'Transcription'}]</td>\n",
       "      <td>{'Transcription': ['ECK120016992']}</td>\n",
       "      <td>[{'name': 'translation', 'significantly associ...</td>\n",
       "      <td>{'translation': ['rplKAJL-rpoBC']}</td>\n",
       "      <td>[{'name': '2.7.7.6', 'significantly associated...</td>\n",
       "      <td>{'2.7.7.6': ['ECK120016992', 'ECK120016992']}</td>\n",
       "      <td>[{'name': 'DNA-directed RNA polymerase beta' s...</td>\n",
       "      <td>{'DNA-directed RNA polymerase beta' subunit (E...</td>\n",
       "      <td>42 celsius</td>\n",
       "      <td>glucose(4)</td>\n",
       "      <td>NaCl(0.5g/L) trace elements</td>\n",
       "      <td>WT</td>\n",
       "      <td>511145</td>\n",
       "      <td>M9</td>\n",
       "      <td>NH4Cl(1)</td>\n",
       "      <td>KH2PO4(3) Na2HPO4(6.8)</td>\n",
       "      <td>MgSO4(0.24)</td>\n",
       "      <td>CaCl2(0.1)</td>\n",
       "    </tr>\n",
       "    <tr>\n",
       "      <th>4</th>\n",
       "      <td>13</td>\n",
       "      <td>42C</td>\n",
       "      <td>1</td>\n",
       "      <td>124</td>\n",
       "      <td>1</td>\n",
       "      <td>1</td>\n",
       "      <td>1.0</td>\n",
       "      <td>4400313</td>\n",
       "      <td>SNP</td>\n",
       "      <td>A→C</td>\n",
       "      <td>D9A (GAT→GCT)</td>\n",
       "      <td>hfq</td>\n",
       "      <td>NaN</td>\n",
       "      <td>1 124 1 1</td>\n",
       "      <td>clone</td>\n",
       "      <td>42C 1</td>\n",
       "      <td>True</td>\n",
       "      <td>(4400313, 4400313)</td>\n",
       "      <td>{ECK120000431}</td>\n",
       "      <td>[{'name': 'hfq', 'RegulonDB ID': 'ECK120000431...</td>\n",
       "      <td>False</td>\n",
       "      <td>False</td>\n",
       "      <td>{}</td>\n",
       "      <td>{}</td>\n",
       "      <td>{}</td>\n",
       "      <td>{}</td>\n",
       "      <td>{}</td>\n",
       "      <td>True</td>\n",
       "      <td>[{'name': 'hfq', 'RegulonDB ID': 'ECK120000431...</td>\n",
       "      <td>{'ECK120000431': ['ECK120000431']}</td>\n",
       "      <td>[{'name': 'yjeF-tsaE-amiB-mutL-miaA-hfq-hflXKC...</td>\n",
       "      <td>{'ECK125147410': ['ECK120000431']}</td>\n",
       "      <td>[{'name': 'CRP', 'significantly associated con...</td>\n",
       "      <td>{'CRP': ['ECK125147410']}</td>\n",
       "      <td>[]</td>\n",
       "      <td>{}</td>\n",
       "      <td>[{'name': 'Signal transduction mechanisms'}]</td>\n",
       "      <td>{'Signal transduction mechanisms': ['ECK125147...</td>\n",
       "      <td>[]</td>\n",
       "      <td>{}</td>\n",
       "      <td>[]</td>\n",
       "      <td>{}</td>\n",
       "      <td>[]</td>\n",
       "      <td>{}</td>\n",
       "      <td>42 celsius</td>\n",
       "      <td>glucose(4)</td>\n",
       "      <td>NaCl(0.5g/L) trace elements</td>\n",
       "      <td>WT</td>\n",
       "      <td>511145</td>\n",
       "      <td>M9</td>\n",
       "      <td>NH4Cl(1)</td>\n",
       "      <td>KH2PO4(3) Na2HPO4(6.8)</td>\n",
       "      <td>MgSO4(0.24)</td>\n",
       "      <td>CaCl2(0.1)</td>\n",
       "    </tr>\n",
       "  </tbody>\n",
       "</table>\n",
       "</div>"
      ],
      "text/plain": [
       "  index  exp  ale  flask  isolate  tech_rep  presence  Position Mutation Type  \\\n",
       "0     9  42C    1    124        1         1       1.0    702352           DEL   \n",
       "1    10  42C    1    124        1         1       1.0   1308318           SNP   \n",
       "2    11  42C    1    124        1         1       1.0   3815859           DEL   \n",
       "3    12  42C    1    124        1         1       1.0   4187550           SNP   \n",
       "4    13  42C    1    124        1         1       1.0   4400313           SNP   \n",
       "\n",
       "  Sequence Change                   Details mutation target annotation  \\\n",
       "0          Δ21 bp  coding (380‑400/1149 nt)                       nagA   \n",
       "1             G→C           R110G (CGT→GGT)                       clsA   \n",
       "2          Δ82 bp                      None                        rph   \n",
       "3             C→T           A734V (GCG→GTG)                       rpoC   \n",
       "4             A→C             D9A (GAT→GCT)                        hfq   \n",
       "\n",
       "  Reference Seq     sample sample type exp ALE  coding               range  \\\n",
       "0           NaN  1 124 1 1       clone   42C 1    True    (702352, 702372)   \n",
       "1           NaN  1 124 1 1       clone   42C 1    True  (1308318, 1308318)   \n",
       "2           NaN  1 124 1 1       clone   42C 1    True  (3815859, 3815940)   \n",
       "3           NaN  1 124 1 1       clone   42C 1    True  (4187550, 4187550)   \n",
       "4           NaN  1 124 1 1       clone   42C 1    True  (4400313, 4400313)   \n",
       "\n",
       "  gene RegulonDB ID                                   genetic features   oriC  \\\n",
       "0    {ECK120000625}  [{'name': 'nagA', 'RegulonDB ID': 'ECK12000062...  False   \n",
       "1    {ECK120001556}  [{'name': 'clsA', 'RegulonDB ID': 'ECK12000155...  False   \n",
       "2    {ECK120000854}  [{'name': 'rph', 'RegulonDB ID': 'ECK120000854...  False   \n",
       "3    {ECK120000886}  [{'name': 'rpoC', 'RegulonDB ID': 'ECK12000088...  False   \n",
       "4    {ECK120000431}  [{'name': 'hfq', 'RegulonDB ID': 'ECK120000431...  False   \n",
       "\n",
       "   pseudogene TFBS promoter RBS attenuator terminator terminator  genetic  \\\n",
       "0       False   {}       {}  {}                    {}         {}     True   \n",
       "1       False   {}       {}  {}                    {}         {}     True   \n",
       "2       False   {}       {}  {}        {ECK125144791}         {}     True   \n",
       "3       False   {}       {}  {}                    {}         {}     True   \n",
       "4       False   {}       {}  {}                    {}         {}     True   \n",
       "\n",
       "                                    genomic features  \\\n",
       "0  [{'name': 'nagA', 'RegulonDB ID': 'ECK12000062...   \n",
       "1  [{'name': 'clsA', 'RegulonDB ID': 'ECK12000155...   \n",
       "2  [{'name': 'rph-pyrE attenuator terminator', 'R...   \n",
       "3  [{'name': 'rpoC', 'RegulonDB ID': 'ECK12000088...   \n",
       "4  [{'name': 'hfq', 'RegulonDB ID': 'ECK120000431...   \n",
       "\n",
       "                               genetic feature links  \\\n",
       "0                 {'ECK120000625': ['ECK120000625']}   \n",
       "1                 {'ECK120001556': ['ECK120001556']}   \n",
       "2  {'ECK120000854': ['ECK120000854'], 'ECK1200007...   \n",
       "3                 {'ECK120000886': ['ECK120000886']}   \n",
       "4                 {'ECK120000431': ['ECK120000431']}   \n",
       "\n",
       "                                             operons  \\\n",
       "0  [{'name': 'nagBAC-umpH', 'RegulonDB ID': 'ECK1...   \n",
       "1  [{'name': 'clsA-yciU', 'RegulonDB ID': 'ECK125...   \n",
       "2  [{'name': 'rph-pyrE', 'RegulonDB ID': 'ECK1200...   \n",
       "3  [{'name': 'rplKAJL-rpoBC', 'RegulonDB ID': 'EC...   \n",
       "4  [{'name': 'yjeF-tsaE-amiB-mutL-miaA-hfq-hflXKC...   \n",
       "\n",
       "                                        operon links  \\\n",
       "0                 {'ECK125162049': ['ECK120000625']}   \n",
       "1                 {'ECK125147415': ['ECK120001556']}   \n",
       "2  {'ECK120014627': ['ECK120000854', 'ECK12000079...   \n",
       "3                 {'ECK120016992': ['ECK120000886']}   \n",
       "4                 {'ECK125147410': ['ECK120000431']}   \n",
       "\n",
       "                                          regulators  \\\n",
       "0  [{'name': 'PhoP', 'significantly associated co...   \n",
       "1                                                 []   \n",
       "2                                                 []   \n",
       "3                                                 []   \n",
       "4  [{'name': 'CRP', 'significantly associated con...   \n",
       "\n",
       "                                     regulator links  \\\n",
       "0  {'NagC': ['ECK125162049'], 'CRP': ['ECK1251620...   \n",
       "1                                                 {}   \n",
       "2                                                 {}   \n",
       "3                                                 {}   \n",
       "4                          {'CRP': ['ECK125147410']}   \n",
       "\n",
       "                                            pathways  \\\n",
       "0  [{'name': 'Galactose metabolism', 'significant...   \n",
       "1                                                 []   \n",
       "2  [{'name': 'Pyrimidine metabolism', 'significan...   \n",
       "3  [{'name': 'Purine metabolism', 'significantly ...   \n",
       "4                                                 []   \n",
       "\n",
       "                                       pathway links  \\\n",
       "0  {'Galactose metabolism': ['ECK125162049'], 'Am...   \n",
       "1                                                 {}   \n",
       "2  {'Pyrimidine metabolism': ['ECK120014627'], 'D...   \n",
       "3  {'Purine metabolism': ['ECK120016992'], 'Pyrim...   \n",
       "4                                                 {}   \n",
       "\n",
       "                                                COGs  \\\n",
       "0  [{'name': 'Carbohydrate transport and metaboli...   \n",
       "1       [{'name': 'Lipid transport and metabolism'}]   \n",
       "2  [{'name': 'Nucleotide transport and metabolism'}]   \n",
       "3                        [{'name': 'Transcription'}]   \n",
       "4       [{'name': 'Signal transduction mechanisms'}]   \n",
       "\n",
       "                                           COG links  \\\n",
       "0  {'Carbohydrate transport and metabolism': ['EC...   \n",
       "1  {'Lipid transport and metabolism': ['ECK125147...   \n",
       "2  {'Nucleotide transport and metabolism': ['ECK1...   \n",
       "3                {'Transcription': ['ECK120016992']}   \n",
       "4  {'Signal transduction mechanisms': ['ECK125147...   \n",
       "\n",
       "                                           imodulons  \\\n",
       "0  [{'name': 'NagC/TyrR', 'significantly associat...   \n",
       "1                                                 []   \n",
       "2  [{'name': 'purR-KO', 'significantly associated...   \n",
       "3  [{'name': 'translation', 'significantly associ...   \n",
       "4                                                 []   \n",
       "\n",
       "                          imodulon links  \\\n",
       "0         {'NagC/TyrR': ['nagBAC-umpH']}   \n",
       "1                                     {}   \n",
       "2  {'purR-KO': ['rph-pyrE', 'rph-pyrE']}   \n",
       "3     {'translation': ['rplKAJL-rpoBC']}   \n",
       "4                                     {}   \n",
       "\n",
       "                                          EC numbers  \\\n",
       "0  [{'name': '3.5.1.25', 'significantly associate...   \n",
       "1                                                 []   \n",
       "2  [{'name': '2.4.2.10', 'significantly associate...   \n",
       "3  [{'name': '2.7.7.6', 'significantly associated...   \n",
       "4                                                 []   \n",
       "\n",
       "                                  EC number links  \\\n",
       "0  {'3.5.1.25': ['ECK125162049', 'ECK125162049']}   \n",
       "1                                              {}   \n",
       "2  {'2.4.2.10': ['ECK120014627', 'ECK120014627']}   \n",
       "3   {'2.7.7.6': ['ECK120016992', 'ECK120016992']}   \n",
       "4                                              {}   \n",
       "\n",
       "                                            products  \\\n",
       "0  [{'name': 'N-acetylglucosamine-6-phosphate dea...   \n",
       "1                                                 []   \n",
       "2  [{'name': 'Orotate phosphoribosyltransferase (...   \n",
       "3  [{'name': 'DNA-directed RNA polymerase beta' s...   \n",
       "4                                                 []   \n",
       "\n",
       "                                       product links temperature  \\\n",
       "0  {'N-acetylglucosamine-6-phosphate deacetylase ...  42 celsius   \n",
       "1                                                 {}  42 celsius   \n",
       "2  {'Orotate phosphoribosyltransferase (EC 2.4.2....  42 celsius   \n",
       "3  {'DNA-directed RNA polymerase beta' subunit (E...  42 celsius   \n",
       "4                                                 {}  42 celsius   \n",
       "\n",
       "  carbon-source                   supplement strain-description taxonomy-id  \\\n",
       "0    glucose(4)  NaCl(0.5g/L) trace elements                 WT      511145   \n",
       "1    glucose(4)  NaCl(0.5g/L) trace elements                 WT      511145   \n",
       "2    glucose(4)  NaCl(0.5g/L) trace elements                 WT      511145   \n",
       "3    glucose(4)  NaCl(0.5g/L) trace elements                 WT      511145   \n",
       "4    glucose(4)  NaCl(0.5g/L) trace elements                 WT      511145   \n",
       "\n",
       "  base-media nitrogen-source      phosphorous-source sulfur-source  \\\n",
       "0         M9        NH4Cl(1)  KH2PO4(3) Na2HPO4(6.8)   MgSO4(0.24)   \n",
       "1         M9        NH4Cl(1)  KH2PO4(3) Na2HPO4(6.8)   MgSO4(0.24)   \n",
       "2         M9        NH4Cl(1)  KH2PO4(3) Na2HPO4(6.8)   MgSO4(0.24)   \n",
       "3         M9        NH4Cl(1)  KH2PO4(3) Na2HPO4(6.8)   MgSO4(0.24)   \n",
       "4         M9        NH4Cl(1)  KH2PO4(3) Na2HPO4(6.8)   MgSO4(0.24)   \n",
       "\n",
       "  calcium-source  \n",
       "0     CaCl2(0.1)  \n",
       "1     CaCl2(0.1)  \n",
       "2     CaCl2(0.1)  \n",
       "3     CaCl2(0.1)  \n",
       "4     CaCl2(0.1)  "
      ]
     },
     "metadata": {},
     "output_type": "display_data"
    }
   ],
   "source": [
    "all_AVA_muts = pd.read_pickle(\"../data/ava/4_10_with_uniq_midpts.pkl\")\n",
    "display(len(all_AVA_muts), all_AVA_muts.head())"
   ]
  },
  {
   "cell_type": "code",
   "execution_count": 3,
   "metadata": {},
   "outputs": [
    {
     "data": {
      "text/plain": [
       "3867"
      ]
     },
     "execution_count": 3,
     "metadata": {},
     "output_type": "execute_result"
    }
   ],
   "source": [
    "import os, sys\n",
    "module_path = os.path.abspath(os.path.join('..'))\n",
    "if module_path not in sys.path:\n",
    "    sys.path.append(module_path)\n",
    "from mutil.mut import get_mut_size\n",
    "\n",
    "# disregarding all deletions of size > 1000 bp (about the size of a gene) since these mutations don't contribute to design and only inflate mutation counts to systems leading to false positives.\n",
    "all_AVA_muts[\"mutation size\"] = all_AVA_muts.apply(get_mut_size, axis=1)\n",
    "all_AVA_muts = all_AVA_muts[~((all_AVA_muts[\"Mutation Type\"]==\"DEL\") & (all_AVA_muts[\"mutation size\"]>1000))].copy()\n",
    "len(all_AVA_muts)"
   ]
  },
  {
   "cell_type": "code",
   "execution_count": 4,
   "metadata": {},
   "outputs": [],
   "source": [
    "all_AVA_muts[\"exp ale\"] = all_AVA_muts.apply(lambda m: m[\"exp\"] + ' ' + str(int(m[\"ale\"])), axis=1)"
   ]
  },
  {
   "cell_type": "code",
   "execution_count": 5,
   "metadata": {},
   "outputs": [],
   "source": [
    "FEATURE_TYPES = [\n",
    "    \"genomic features\",\n",
    "    \"operons\",\n",
    "    \"pathways\",\n",
    "#     \"imodulons\",\n",
    "    \"regulators\",\n",
    "#     \"EC numbers\",\n",
    "#     \"products\"\n",
    "]"
   ]
  },
  {
   "cell_type": "code",
   "execution_count": 6,
   "metadata": {},
   "outputs": [],
   "source": [
    "def get_expanded_feat_type(given_feat_type, feat_d):\n",
    "    ft = given_feat_type\n",
    "    if ft == \"genomic features\":\n",
    "        ft = feat_d[\"feature type\"]\n",
    "        if ft == \"unknown\":\n",
    "            ft = \"intergenic\" \n",
    "    return ft"
   ]
  },
  {
   "cell_type": "code",
   "execution_count": 7,
   "metadata": {},
   "outputs": [
    {
     "data": {
      "text/plain": [
       "dict_keys(['gene', 'operons', 'pathways', 'regulators', 'attenuator terminator', 'intergenic', 'promoter', 'TFBS', 'terminator', 'RBS'])"
      ]
     },
     "execution_count": 7,
     "metadata": {},
     "output_type": "execute_result"
    }
   ],
   "source": [
    "# preprocessing\n",
    "# feat_pen_d = {ft:dict() for ft in FEATURE_TYPES}\n",
    "feat_pen_d = {}\n",
    "for _, m in all_AVA_muts.iterrows():\n",
    "    for ft in FEATURE_TYPES:\n",
    "        for f in m[ft]:\n",
    "            \n",
    "            out_ft = get_expanded_feat_type(ft, f)\n",
    "            if out_ft not in feat_pen_d.keys():  # Since feat_pen_d is empty by default, need to add first dict layer before adding 2nd layer for specific feature\n",
    "                    feat_pen_d[out_ft] = {}\n",
    "            \n",
    "            if (str(f[\"name\"]) != \"nan\") & (f[\"name\"] not in feat_pen_d[out_ft].keys()):\n",
    "                feat_pen_d[out_ft][f[\"name\"]] = []\n",
    "feat_pen_d.keys()"
   ]
  },
  {
   "cell_type": "code",
   "execution_count": 8,
   "metadata": {},
   "outputs": [],
   "source": [
    "for exp, exp_mut_df in all_AVA_muts.groupby(\"exp\"):\n",
    "    \n",
    "#     exp_feat_ale_d = {ft:dict() for ft in FEATURE_TYPES}\n",
    "    exp_feat_ale_d = dict()\n",
    "    for _, m in exp_mut_df.iterrows():\n",
    "        \n",
    "        for ft in FEATURE_TYPES:  # must use regular feature types since the mutation rows don't differentiate between sub \"genomic feature\" types (gene, TFBS, etc)\n",
    "            for f in m[ft]:\n",
    "                \n",
    "                updt_ft = get_expanded_feat_type(ft, f)\n",
    "                if updt_ft not in exp_feat_ale_d.keys():  # Since feat_pen_d is empty by default, need to add first dict layer before adding 2nd layer for specific feature\n",
    "                    exp_feat_ale_d[updt_ft] = {}\n",
    "                \n",
    "                if str(f[\"name\"]) != \"nan\":\n",
    "                    if f[\"name\"] not in exp_feat_ale_d[updt_ft].keys():\n",
    "                        exp_feat_ale_d[updt_ft][f[\"name\"]] = set()\n",
    "                    exp_feat_ale_d[updt_ft][f[\"name\"]].add(m[\"exp ale\"])          \n",
    "#     display(exp_feat_ale_d)\n",
    "    \n",
    "    for updt_ft in exp_feat_ale_d.keys():\n",
    "        for f, feat_exp_ales in exp_feat_ale_d[updt_ft].items():\n",
    "            feat_exp_pen = len(feat_exp_ales) / len(exp_mut_df[\"exp ale\"].unique())\n",
    "            if feat_exp_pen > 0:\n",
    "                feat_pen_d[updt_ft][f].append(feat_exp_pen)\n",
    "\n",
    "# testing to make sure that all individual features are getting penetrance values\n",
    "for ft, fd in feat_pen_d.items():\n",
    "    for fn, pens in fd.items():\n",
    "        assert(len(pens) > 0)                \n",
    "\n",
    "# feat_pen_d"
   ]
  },
  {
   "cell_type": "code",
   "execution_count": 9,
   "metadata": {},
   "outputs": [],
   "source": [
    "feat_avg_pen_d = {ft:dict() for ft in feat_pen_d.keys()}\n",
    "for ft in feat_pen_d.keys():\n",
    "    for f, pens in feat_pen_d[ft].items():\n",
    "        feat_avg_pen_d[ft][f] = sum(pens) / len(pens)\n",
    "# feat_avg_pen_d"
   ]
  },
  {
   "cell_type": "code",
   "execution_count": 10,
   "metadata": {
    "scrolled": true
   },
   "outputs": [
    {
     "data": {
      "text/plain": [
       "'ECK120014729'"
      ]
     },
     "metadata": {},
     "output_type": "display_data"
    },
    {
     "data": {
      "text/plain": [
       "[{'name': 'gltBDF',\n",
       "  'RegulonDB ID': 'ECK120014729',\n",
       "  'range': (3354148, 3361940),\n",
       "  'significantly associated conditions': set()}]"
      ]
     },
     "metadata": {},
     "output_type": "display_data"
    },
    {
     "data": {
      "text/plain": [
       "{}"
      ]
     },
     "metadata": {},
     "output_type": "display_data"
    },
    {
     "data": {
      "text/plain": [
       "'HdfR'"
      ]
     },
     "metadata": {},
     "output_type": "display_data"
    },
    {
     "data": {
      "text/plain": [
       "[{'name': 'HdfR', 'significantly associated conditions': set()},\n",
       " {'name': 'IHF', 'significantly associated conditions': set()},\n",
       " {'name': 'FNR', 'significantly associated conditions': set()},\n",
       " {'name': 'AdiY',\n",
       "  'significantly associated conditions': {'CaCl2(0.1)',\n",
       "   'KH2PO4(3) Na2HPO4(6.8)',\n",
       "   'M9',\n",
       "   'MgSO4(0.24)',\n",
       "   'NH4Cl(1)',\n",
       "   'NaCl(0.5g/L) trace elements',\n",
       "   'glucose(4)'}},\n",
       " {'name': 'Lrp',\n",
       "  'significantly associated conditions': {'NH4Cl(1)',\n",
       "   'NaCl(0.5g/L) trace elements'}},\n",
       " {'name': 'ArgR', 'significantly associated conditions': set()},\n",
       " {'name': 'CRP', 'significantly associated conditions': set()},\n",
       " {'name': 'Fur', 'significantly associated conditions': {'P. aerophilum pgi'}},\n",
       " {'name': 'GadE',\n",
       "  'significantly associated conditions': {'CaCl2(0.1)',\n",
       "   'KH2PO4(3) Na2HPO4(6.8)',\n",
       "   'M9',\n",
       "   'MgSO4(0.24)',\n",
       "   'NH4Cl(1)',\n",
       "   'NaCl(0.5g/L) trace elements',\n",
       "   'glucose(4)'}},\n",
       " {'name': 'Nac',\n",
       "  'significantly associated conditions': {'NH4Cl(1)',\n",
       "   'NaCl(0.5g/L) trace elements'}}]"
      ]
     },
     "metadata": {},
     "output_type": "display_data"
    },
    {
     "data": {
      "text/plain": [
       "{}"
      ]
     },
     "metadata": {},
     "output_type": "display_data"
    },
    {
     "data": {
      "text/plain": [
       "'IHF'"
      ]
     },
     "metadata": {},
     "output_type": "display_data"
    },
    {
     "data": {
      "text/plain": [
       "[{'name': 'HdfR', 'significantly associated conditions': set()},\n",
       " {'name': 'IHF', 'significantly associated conditions': set()},\n",
       " {'name': 'FNR', 'significantly associated conditions': set()},\n",
       " {'name': 'AdiY',\n",
       "  'significantly associated conditions': {'CaCl2(0.1)',\n",
       "   'KH2PO4(3) Na2HPO4(6.8)',\n",
       "   'M9',\n",
       "   'MgSO4(0.24)',\n",
       "   'NH4Cl(1)',\n",
       "   'NaCl(0.5g/L) trace elements',\n",
       "   'glucose(4)'}},\n",
       " {'name': 'Lrp',\n",
       "  'significantly associated conditions': {'NH4Cl(1)',\n",
       "   'NaCl(0.5g/L) trace elements'}},\n",
       " {'name': 'ArgR', 'significantly associated conditions': set()},\n",
       " {'name': 'CRP', 'significantly associated conditions': set()},\n",
       " {'name': 'Fur', 'significantly associated conditions': {'P. aerophilum pgi'}},\n",
       " {'name': 'GadE',\n",
       "  'significantly associated conditions': {'CaCl2(0.1)',\n",
       "   'KH2PO4(3) Na2HPO4(6.8)',\n",
       "   'M9',\n",
       "   'MgSO4(0.24)',\n",
       "   'NH4Cl(1)',\n",
       "   'NaCl(0.5g/L) trace elements',\n",
       "   'glucose(4)'}},\n",
       " {'name': 'Nac',\n",
       "  'significantly associated conditions': {'NH4Cl(1)',\n",
       "   'NaCl(0.5g/L) trace elements'}}]"
      ]
     },
     "metadata": {},
     "output_type": "display_data"
    },
    {
     "data": {
      "text/plain": [
       "{}"
      ]
     },
     "metadata": {},
     "output_type": "display_data"
    },
    {
     "data": {
      "text/plain": [
       "'FNR'"
      ]
     },
     "metadata": {},
     "output_type": "display_data"
    },
    {
     "data": {
      "text/plain": [
       "[{'name': 'HdfR', 'significantly associated conditions': set()},\n",
       " {'name': 'IHF', 'significantly associated conditions': set()},\n",
       " {'name': 'FNR', 'significantly associated conditions': set()},\n",
       " {'name': 'AdiY',\n",
       "  'significantly associated conditions': {'CaCl2(0.1)',\n",
       "   'KH2PO4(3) Na2HPO4(6.8)',\n",
       "   'M9',\n",
       "   'MgSO4(0.24)',\n",
       "   'NH4Cl(1)',\n",
       "   'NaCl(0.5g/L) trace elements',\n",
       "   'glucose(4)'}},\n",
       " {'name': 'Lrp',\n",
       "  'significantly associated conditions': {'NH4Cl(1)',\n",
       "   'NaCl(0.5g/L) trace elements'}},\n",
       " {'name': 'ArgR', 'significantly associated conditions': set()},\n",
       " {'name': 'CRP', 'significantly associated conditions': set()},\n",
       " {'name': 'Fur', 'significantly associated conditions': {'P. aerophilum pgi'}},\n",
       " {'name': 'GadE',\n",
       "  'significantly associated conditions': {'CaCl2(0.1)',\n",
       "   'KH2PO4(3) Na2HPO4(6.8)',\n",
       "   'M9',\n",
       "   'MgSO4(0.24)',\n",
       "   'NH4Cl(1)',\n",
       "   'NaCl(0.5g/L) trace elements',\n",
       "   'glucose(4)'}},\n",
       " {'name': 'Nac',\n",
       "  'significantly associated conditions': {'NH4Cl(1)',\n",
       "   'NaCl(0.5g/L) trace elements'}}]"
      ]
     },
     "metadata": {},
     "output_type": "display_data"
    },
    {
     "data": {
      "text/plain": [
       "{}"
      ]
     },
     "metadata": {},
     "output_type": "display_data"
    },
    {
     "data": {
      "text/plain": [
       "'AdiY'"
      ]
     },
     "metadata": {},
     "output_type": "display_data"
    },
    {
     "data": {
      "text/plain": [
       "[{'name': 'HdfR', 'significantly associated conditions': set()},\n",
       " {'name': 'IHF', 'significantly associated conditions': set()},\n",
       " {'name': 'FNR', 'significantly associated conditions': set()},\n",
       " {'name': 'AdiY',\n",
       "  'significantly associated conditions': {'CaCl2(0.1)',\n",
       "   'KH2PO4(3) Na2HPO4(6.8)',\n",
       "   'M9',\n",
       "   'MgSO4(0.24)',\n",
       "   'NH4Cl(1)',\n",
       "   'NaCl(0.5g/L) trace elements',\n",
       "   'glucose(4)'}},\n",
       " {'name': 'Lrp',\n",
       "  'significantly associated conditions': {'NH4Cl(1)',\n",
       "   'NaCl(0.5g/L) trace elements'}},\n",
       " {'name': 'ArgR', 'significantly associated conditions': set()},\n",
       " {'name': 'CRP', 'significantly associated conditions': set()},\n",
       " {'name': 'Fur', 'significantly associated conditions': {'P. aerophilum pgi'}},\n",
       " {'name': 'GadE',\n",
       "  'significantly associated conditions': {'CaCl2(0.1)',\n",
       "   'KH2PO4(3) Na2HPO4(6.8)',\n",
       "   'M9',\n",
       "   'MgSO4(0.24)',\n",
       "   'NH4Cl(1)',\n",
       "   'NaCl(0.5g/L) trace elements',\n",
       "   'glucose(4)'}},\n",
       " {'name': 'Nac',\n",
       "  'significantly associated conditions': {'NH4Cl(1)',\n",
       "   'NaCl(0.5g/L) trace elements'}}]"
      ]
     },
     "metadata": {},
     "output_type": "display_data"
    },
    {
     "data": {
      "text/plain": [
       "{}"
      ]
     },
     "metadata": {},
     "output_type": "display_data"
    },
    {
     "data": {
      "text/plain": [
       "'Lrp'"
      ]
     },
     "metadata": {},
     "output_type": "display_data"
    },
    {
     "data": {
      "text/plain": [
       "[{'name': 'HdfR', 'significantly associated conditions': set()},\n",
       " {'name': 'IHF', 'significantly associated conditions': set()},\n",
       " {'name': 'FNR', 'significantly associated conditions': set()},\n",
       " {'name': 'AdiY',\n",
       "  'significantly associated conditions': {'CaCl2(0.1)',\n",
       "   'KH2PO4(3) Na2HPO4(6.8)',\n",
       "   'M9',\n",
       "   'MgSO4(0.24)',\n",
       "   'NH4Cl(1)',\n",
       "   'NaCl(0.5g/L) trace elements',\n",
       "   'glucose(4)'}},\n",
       " {'name': 'Lrp',\n",
       "  'significantly associated conditions': {'NH4Cl(1)',\n",
       "   'NaCl(0.5g/L) trace elements'}},\n",
       " {'name': 'ArgR', 'significantly associated conditions': set()},\n",
       " {'name': 'CRP', 'significantly associated conditions': set()},\n",
       " {'name': 'Fur', 'significantly associated conditions': {'P. aerophilum pgi'}},\n",
       " {'name': 'GadE',\n",
       "  'significantly associated conditions': {'CaCl2(0.1)',\n",
       "   'KH2PO4(3) Na2HPO4(6.8)',\n",
       "   'M9',\n",
       "   'MgSO4(0.24)',\n",
       "   'NH4Cl(1)',\n",
       "   'NaCl(0.5g/L) trace elements',\n",
       "   'glucose(4)'}},\n",
       " {'name': 'Nac',\n",
       "  'significantly associated conditions': {'NH4Cl(1)',\n",
       "   'NaCl(0.5g/L) trace elements'}}]"
      ]
     },
     "metadata": {},
     "output_type": "display_data"
    },
    {
     "data": {
      "text/plain": [
       "{}"
      ]
     },
     "metadata": {},
     "output_type": "display_data"
    },
    {
     "data": {
      "text/plain": [
       "'ArgR'"
      ]
     },
     "metadata": {},
     "output_type": "display_data"
    },
    {
     "data": {
      "text/plain": [
       "[{'name': 'HdfR', 'significantly associated conditions': set()},\n",
       " {'name': 'IHF', 'significantly associated conditions': set()},\n",
       " {'name': 'FNR', 'significantly associated conditions': set()},\n",
       " {'name': 'AdiY',\n",
       "  'significantly associated conditions': {'CaCl2(0.1)',\n",
       "   'KH2PO4(3) Na2HPO4(6.8)',\n",
       "   'M9',\n",
       "   'MgSO4(0.24)',\n",
       "   'NH4Cl(1)',\n",
       "   'NaCl(0.5g/L) trace elements',\n",
       "   'glucose(4)'}},\n",
       " {'name': 'Lrp',\n",
       "  'significantly associated conditions': {'NH4Cl(1)',\n",
       "   'NaCl(0.5g/L) trace elements'}},\n",
       " {'name': 'ArgR', 'significantly associated conditions': set()},\n",
       " {'name': 'CRP', 'significantly associated conditions': set()},\n",
       " {'name': 'Fur', 'significantly associated conditions': {'P. aerophilum pgi'}},\n",
       " {'name': 'GadE',\n",
       "  'significantly associated conditions': {'CaCl2(0.1)',\n",
       "   'KH2PO4(3) Na2HPO4(6.8)',\n",
       "   'M9',\n",
       "   'MgSO4(0.24)',\n",
       "   'NH4Cl(1)',\n",
       "   'NaCl(0.5g/L) trace elements',\n",
       "   'glucose(4)'}},\n",
       " {'name': 'Nac',\n",
       "  'significantly associated conditions': {'NH4Cl(1)',\n",
       "   'NaCl(0.5g/L) trace elements'}}]"
      ]
     },
     "metadata": {},
     "output_type": "display_data"
    },
    {
     "data": {
      "text/plain": [
       "{}"
      ]
     },
     "metadata": {},
     "output_type": "display_data"
    },
    {
     "data": {
      "text/plain": [
       "'CRP'"
      ]
     },
     "metadata": {},
     "output_type": "display_data"
    },
    {
     "data": {
      "text/plain": [
       "[{'name': 'HdfR', 'significantly associated conditions': set()},\n",
       " {'name': 'IHF', 'significantly associated conditions': set()},\n",
       " {'name': 'FNR', 'significantly associated conditions': set()},\n",
       " {'name': 'AdiY',\n",
       "  'significantly associated conditions': {'CaCl2(0.1)',\n",
       "   'KH2PO4(3) Na2HPO4(6.8)',\n",
       "   'M9',\n",
       "   'MgSO4(0.24)',\n",
       "   'NH4Cl(1)',\n",
       "   'NaCl(0.5g/L) trace elements',\n",
       "   'glucose(4)'}},\n",
       " {'name': 'Lrp',\n",
       "  'significantly associated conditions': {'NH4Cl(1)',\n",
       "   'NaCl(0.5g/L) trace elements'}},\n",
       " {'name': 'ArgR', 'significantly associated conditions': set()},\n",
       " {'name': 'CRP', 'significantly associated conditions': set()},\n",
       " {'name': 'Fur', 'significantly associated conditions': {'P. aerophilum pgi'}},\n",
       " {'name': 'GadE',\n",
       "  'significantly associated conditions': {'CaCl2(0.1)',\n",
       "   'KH2PO4(3) Na2HPO4(6.8)',\n",
       "   'M9',\n",
       "   'MgSO4(0.24)',\n",
       "   'NH4Cl(1)',\n",
       "   'NaCl(0.5g/L) trace elements',\n",
       "   'glucose(4)'}},\n",
       " {'name': 'Nac',\n",
       "  'significantly associated conditions': {'NH4Cl(1)',\n",
       "   'NaCl(0.5g/L) trace elements'}}]"
      ]
     },
     "metadata": {},
     "output_type": "display_data"
    },
    {
     "data": {
      "text/plain": [
       "{}"
      ]
     },
     "metadata": {},
     "output_type": "display_data"
    },
    {
     "data": {
      "text/plain": [
       "'Fur'"
      ]
     },
     "metadata": {},
     "output_type": "display_data"
    },
    {
     "data": {
      "text/plain": [
       "[{'name': 'HdfR', 'significantly associated conditions': set()},\n",
       " {'name': 'IHF', 'significantly associated conditions': set()},\n",
       " {'name': 'FNR', 'significantly associated conditions': set()},\n",
       " {'name': 'AdiY',\n",
       "  'significantly associated conditions': {'CaCl2(0.1)',\n",
       "   'KH2PO4(3) Na2HPO4(6.8)',\n",
       "   'M9',\n",
       "   'MgSO4(0.24)',\n",
       "   'NH4Cl(1)',\n",
       "   'NaCl(0.5g/L) trace elements',\n",
       "   'glucose(4)'}},\n",
       " {'name': 'Lrp',\n",
       "  'significantly associated conditions': {'NH4Cl(1)',\n",
       "   'NaCl(0.5g/L) trace elements'}},\n",
       " {'name': 'ArgR', 'significantly associated conditions': set()},\n",
       " {'name': 'CRP', 'significantly associated conditions': set()},\n",
       " {'name': 'Fur', 'significantly associated conditions': {'P. aerophilum pgi'}},\n",
       " {'name': 'GadE',\n",
       "  'significantly associated conditions': {'CaCl2(0.1)',\n",
       "   'KH2PO4(3) Na2HPO4(6.8)',\n",
       "   'M9',\n",
       "   'MgSO4(0.24)',\n",
       "   'NH4Cl(1)',\n",
       "   'NaCl(0.5g/L) trace elements',\n",
       "   'glucose(4)'}},\n",
       " {'name': 'Nac',\n",
       "  'significantly associated conditions': {'NH4Cl(1)',\n",
       "   'NaCl(0.5g/L) trace elements'}}]"
      ]
     },
     "metadata": {},
     "output_type": "display_data"
    },
    {
     "data": {
      "text/plain": [
       "{}"
      ]
     },
     "metadata": {},
     "output_type": "display_data"
    },
    {
     "data": {
      "text/plain": [
       "'GadE'"
      ]
     },
     "metadata": {},
     "output_type": "display_data"
    },
    {
     "data": {
      "text/plain": [
       "[{'name': 'HdfR', 'significantly associated conditions': set()},\n",
       " {'name': 'IHF', 'significantly associated conditions': set()},\n",
       " {'name': 'FNR', 'significantly associated conditions': set()},\n",
       " {'name': 'AdiY',\n",
       "  'significantly associated conditions': {'CaCl2(0.1)',\n",
       "   'KH2PO4(3) Na2HPO4(6.8)',\n",
       "   'M9',\n",
       "   'MgSO4(0.24)',\n",
       "   'NH4Cl(1)',\n",
       "   'NaCl(0.5g/L) trace elements',\n",
       "   'glucose(4)'}},\n",
       " {'name': 'Lrp',\n",
       "  'significantly associated conditions': {'NH4Cl(1)',\n",
       "   'NaCl(0.5g/L) trace elements'}},\n",
       " {'name': 'ArgR', 'significantly associated conditions': set()},\n",
       " {'name': 'CRP', 'significantly associated conditions': set()},\n",
       " {'name': 'Fur', 'significantly associated conditions': {'P. aerophilum pgi'}},\n",
       " {'name': 'GadE',\n",
       "  'significantly associated conditions': {'CaCl2(0.1)',\n",
       "   'KH2PO4(3) Na2HPO4(6.8)',\n",
       "   'M9',\n",
       "   'MgSO4(0.24)',\n",
       "   'NH4Cl(1)',\n",
       "   'NaCl(0.5g/L) trace elements',\n",
       "   'glucose(4)'}},\n",
       " {'name': 'Nac',\n",
       "  'significantly associated conditions': {'NH4Cl(1)',\n",
       "   'NaCl(0.5g/L) trace elements'}}]"
      ]
     },
     "metadata": {},
     "output_type": "display_data"
    },
    {
     "data": {
      "text/plain": [
       "{}"
      ]
     },
     "metadata": {},
     "output_type": "display_data"
    },
    {
     "data": {
      "text/plain": [
       "'Nac'"
      ]
     },
     "metadata": {},
     "output_type": "display_data"
    },
    {
     "data": {
      "text/plain": [
       "[{'name': 'HdfR', 'significantly associated conditions': set()},\n",
       " {'name': 'IHF', 'significantly associated conditions': set()},\n",
       " {'name': 'FNR', 'significantly associated conditions': set()},\n",
       " {'name': 'AdiY',\n",
       "  'significantly associated conditions': {'CaCl2(0.1)',\n",
       "   'KH2PO4(3) Na2HPO4(6.8)',\n",
       "   'M9',\n",
       "   'MgSO4(0.24)',\n",
       "   'NH4Cl(1)',\n",
       "   'NaCl(0.5g/L) trace elements',\n",
       "   'glucose(4)'}},\n",
       " {'name': 'Lrp',\n",
       "  'significantly associated conditions': {'NH4Cl(1)',\n",
       "   'NaCl(0.5g/L) trace elements'}},\n",
       " {'name': 'ArgR', 'significantly associated conditions': set()},\n",
       " {'name': 'CRP', 'significantly associated conditions': set()},\n",
       " {'name': 'Fur', 'significantly associated conditions': {'P. aerophilum pgi'}},\n",
       " {'name': 'GadE',\n",
       "  'significantly associated conditions': {'CaCl2(0.1)',\n",
       "   'KH2PO4(3) Na2HPO4(6.8)',\n",
       "   'M9',\n",
       "   'MgSO4(0.24)',\n",
       "   'NH4Cl(1)',\n",
       "   'NaCl(0.5g/L) trace elements',\n",
       "   'glucose(4)'}},\n",
       " {'name': 'Nac',\n",
       "  'significantly associated conditions': {'NH4Cl(1)',\n",
       "   'NaCl(0.5g/L) trace elements'}}]"
      ]
     },
     "metadata": {},
     "output_type": "display_data"
    },
    {
     "data": {
      "text/plain": [
       "{}"
      ]
     },
     "metadata": {},
     "output_type": "display_data"
    },
    {
     "data": {
      "text/html": [
       "<div>\n",
       "<style scoped>\n",
       "    .dataframe tbody tr th:only-of-type {\n",
       "        vertical-align: middle;\n",
       "    }\n",
       "\n",
       "    .dataframe tbody tr th {\n",
       "        vertical-align: top;\n",
       "    }\n",
       "\n",
       "    .dataframe thead th {\n",
       "        text-align: right;\n",
       "    }\n",
       "</style>\n",
       "<table border=\"1\" class=\"dataframe\">\n",
       "  <thead>\n",
       "    <tr style=\"text-align: right;\">\n",
       "      <th></th>\n",
       "      <th>ALE-unique mutation count</th>\n",
       "      <th>average ALE experiment convergence</th>\n",
       "      <th>feature type</th>\n",
       "    </tr>\n",
       "  </thead>\n",
       "  <tbody>\n",
       "    <tr>\n",
       "      <th>nagA</th>\n",
       "      <td>9</td>\n",
       "      <td>0.250794</td>\n",
       "      <td>gene</td>\n",
       "    </tr>\n",
       "    <tr>\n",
       "      <th>nagBAC-umpH operon</th>\n",
       "      <td>28</td>\n",
       "      <td>0.356488</td>\n",
       "      <td>operons</td>\n",
       "    </tr>\n",
       "    <tr>\n",
       "      <th>Galactose metabolism pathway</th>\n",
       "      <td>65</td>\n",
       "      <td>0.436865</td>\n",
       "      <td>pathways</td>\n",
       "    </tr>\n",
       "    <tr>\n",
       "      <th>Amino sugar and nucleotide sugar metabolism pathway</th>\n",
       "      <td>53</td>\n",
       "      <td>0.404537</td>\n",
       "      <td>pathways</td>\n",
       "    </tr>\n",
       "    <tr>\n",
       "      <th>PhoP regulon</th>\n",
       "      <td>42</td>\n",
       "      <td>0.312103</td>\n",
       "      <td>regulators</td>\n",
       "    </tr>\n",
       "    <tr>\n",
       "      <th>...</th>\n",
       "      <td>...</td>\n",
       "      <td>...</td>\n",
       "      <td>...</td>\n",
       "    </tr>\n",
       "    <tr>\n",
       "      <th>csrA operon</th>\n",
       "      <td>1</td>\n",
       "      <td>1.000000</td>\n",
       "      <td>operons</td>\n",
       "    </tr>\n",
       "    <tr>\n",
       "      <th>yraK</th>\n",
       "      <td>1</td>\n",
       "      <td>1.000000</td>\n",
       "      <td>gene</td>\n",
       "    </tr>\n",
       "    <tr>\n",
       "      <th>tufAp1</th>\n",
       "      <td>1</td>\n",
       "      <td>1.000000</td>\n",
       "      <td>promoter</td>\n",
       "    </tr>\n",
       "    <tr>\n",
       "      <th>fusA</th>\n",
       "      <td>1</td>\n",
       "      <td>1.000000</td>\n",
       "      <td>gene</td>\n",
       "    </tr>\n",
       "    <tr>\n",
       "      <th>atpG</th>\n",
       "      <td>1</td>\n",
       "      <td>1.000000</td>\n",
       "      <td>gene</td>\n",
       "    </tr>\n",
       "  </tbody>\n",
       "</table>\n",
       "<p>2149 rows × 3 columns</p>\n",
       "</div>"
      ],
      "text/plain": [
       "                                                    ALE-unique mutation count  \\\n",
       "nagA                                                                        9   \n",
       "nagBAC-umpH operon                                                         28   \n",
       "Galactose metabolism pathway                                               65   \n",
       "Amino sugar and nucleotide sugar metabolism pat...                         53   \n",
       "PhoP regulon                                                               42   \n",
       "...                                                                       ...   \n",
       "csrA operon                                                                 1   \n",
       "yraK                                                                        1   \n",
       "tufAp1                                                                      1   \n",
       "fusA                                                                        1   \n",
       "atpG                                                                        1   \n",
       "\n",
       "                                                    average ALE experiment convergence  \\\n",
       "nagA                                                                          0.250794   \n",
       "nagBAC-umpH operon                                                            0.356488   \n",
       "Galactose metabolism pathway                                                  0.436865   \n",
       "Amino sugar and nucleotide sugar metabolism pat...                            0.404537   \n",
       "PhoP regulon                                                                  0.312103   \n",
       "...                                                                                ...   \n",
       "csrA operon                                                                   1.000000   \n",
       "yraK                                                                          1.000000   \n",
       "tufAp1                                                                        1.000000   \n",
       "fusA                                                                          1.000000   \n",
       "atpG                                                                          1.000000   \n",
       "\n",
       "                                                   feature type  \n",
       "nagA                                                       gene  \n",
       "nagBAC-umpH operon                                      operons  \n",
       "Galactose metabolism pathway                           pathways  \n",
       "Amino sugar and nucleotide sugar metabolism pat...     pathways  \n",
       "PhoP regulon                                         regulators  \n",
       "...                                                         ...  \n",
       "csrA operon                                             operons  \n",
       "yraK                                                       gene  \n",
       "tufAp1                                                 promoter  \n",
       "fusA                                                       gene  \n",
       "atpG                                                       gene  \n",
       "\n",
       "[2149 rows x 3 columns]"
      ]
     },
     "execution_count": 10,
     "metadata": {},
     "output_type": "execute_result"
    }
   ],
   "source": [
    "mat = pd.DataFrame()\n",
    "for _, m in all_AVA_muts.iterrows():\n",
    "    for ft in FEATURE_TYPES:\n",
    "        links_already_counted_for = set()\n",
    "        for f in m[ft]:  # must use regular feature types since the mutation rows don't differentiate between sub \"genomic feature\" types (gene, TFBS, etc)\n",
    "            if str(f[\"name\"]) != \"nan\":  # !!! only counting features with names. This could lead to slightly inaccurate results.\n",
    "                \n",
    "                mat_index = str(f[\"name\"])\n",
    "                updt_ft = get_expanded_feat_type(ft, f)\n",
    "                if ft != \"genomic features\":\n",
    "                    mat_index = mat_index + ' ' + updt_ft[:-1]\n",
    "                \n",
    "                if mat_index not in mat.index:\n",
    "                    avg_pen = feat_avg_pen_d[updt_ft][f[\"name\"]]\n",
    "                    srs = pd.Series({\n",
    "                        \"feature type\": updt_ft,\n",
    "                        \"average ALE experiment convergence\": avg_pen,  # only needs to be recorded once\n",
    "                        \"ALE-unique mutation count\": 0})  # setting up for later cells to populate\n",
    "                    srs.name = mat_index\n",
    "                    mat = mat.append(srs)\n",
    "                \n",
    "                if ft == \"genomic features\":\n",
    "                    mat.at[mat_index, \"ALE-unique mutation count\"] += 1 # add count every time come across feature type\n",
    "                else:  # have to count their links, not simply the occurence.\n",
    "                    if f['name'] not in links_already_counted_for:  # so as to not double-count feature links\n",
    "                        links_already_counted_for.add(f['name'])\n",
    "                        links_col = ft[:-1] + \" links\"\n",
    "                        link_key = f['name']\n",
    "                        if ft == \"operons\":\n",
    "                            link_key = f['RegulonDB ID']\n",
    "\n",
    "                        try:\n",
    "                            mat.at[mat_index, \"ALE-unique mutation count\"] += len(m[links_col][link_key]) # add count every time come across feature type\n",
    "                        except:\n",
    "                            display(link_key, m[ft], m[links_col])\n",
    "                        \n",
    "mat.index = mat.apply(lambda r: str(r.name).replace(\"regulator\", \"regulon\") if r[\"feature type\"] == \"regulators\" else r.name, axis=1)  # some products have \"regulator\" in their name\n",
    "mat['ALE-unique mutation count'] = mat['ALE-unique mutation count'].astype(int)\n",
    "mat"
   ]
  },
  {
   "cell_type": "code",
   "execution_count": 11,
   "metadata": {},
   "outputs": [
    {
     "data": {
      "text/plain": [
       "array(['gene', 'operon', 'pathway', 'regulon', 'attenuator terminator',\n",
       "       'intergenic', 'promoter', 'TFBS', 'terminator', 'RBS'],\n",
       "      dtype=object)"
      ]
     },
     "execution_count": 11,
     "metadata": {},
     "output_type": "execute_result"
    }
   ],
   "source": [
    "def _rename_feats(f):\n",
    "    o = f\n",
    "    \n",
    "    if f == \"regulators\":\n",
    "        o = \"regulon\"\n",
    "    if f == \"EC numbers\":\n",
    "        o = \"reaction\"\n",
    "        \n",
    "    if o[-1] == 's':\n",
    "        o = o[:-1]\n",
    "        \n",
    "    return o\n",
    "\n",
    "mat[\"feature type\"] = mat.apply(lambda x: _rename_feats(x[\"feature type\"]), axis=1)\n",
    "mat[\"feature type\"].unique()"
   ]
  },
  {
   "cell_type": "code",
   "execution_count": 12,
   "metadata": {},
   "outputs": [
    {
     "data": {
      "text/plain": [
       "(0.0, 1.1)"
      ]
     },
     "execution_count": 12,
     "metadata": {},
     "output_type": "execute_result"
    },
    {
     "data": {
      "image/png": "[encoded data removed]",
      "text/plain": [
       "<Figure size 750x600 with 1 Axes>"
      ]
     },
     "metadata": {},
     "output_type": "display_data"
    }
   ],
   "source": [
    "import seaborn as sns\n",
    "import matplotlib\n",
    "import matplotlib.pyplot as plt\n",
    "from matplotlib.ticker import MaxNLocator\n",
    "from adjustText import adjust_text\n",
    "%matplotlib inline\n",
    "plt.rcParams[\"figure.dpi\"] = 300\n",
    "sns.set_palette(\"muted\")\n",
    "sns.set_context(\"paper\")\n",
    "# sns.set_style(\"ticks\")\n",
    "sns.set_style(\"whitegrid\")\n",
    "plt.rcParams['font.sans-serif'] = [\"FreeSans\"]\n",
    "\n",
    "boxplot_kwargs = {\n",
    "    'boxprops': {'edgecolor': 'k', 'linewidth': 0.75},\n",
    "    'whiskerprops': {'color': 'k', 'linewidth': 0.75},\n",
    "    'medianprops': {'color': 'orange', 'linewidth': 1},\n",
    "    'capprops': {'color': 'k', 'linewidth': 0.75},\n",
    "    'flierprops': {'marker': '.', 'markerfacecolor': \"black\", 'markeredgecolor': \"black\"\n",
    "#                    \"markersize\":1\n",
    "                  }\n",
    "}\n",
    "\n",
    "plt.figure(figsize=(2.5, 2))\n",
    "ax = sns.boxplot(data=mat, x=\"average ALE experiment convergence\", y=\"feature type\",\n",
    "            color=\"white\",\n",
    "#                  order=[\"RBS\", \"TFBS\", \"promoter\", \"terminator\", \"attenuator terminator\", \"intergenic\", \"gene\", \"reaction\", \"operon\", \"pathway\", \"imodulon\", \"regulon\"],\n",
    "            **boxplot_kwargs\n",
    "           )\n",
    "sns.stripplot(data=mat, x=\"average ALE experiment convergence\", y=\"feature type\",\n",
    "              color=\"0.5\",\n",
    "              alpha=0.5,\n",
    "              size=3\n",
    "#               facecolors=None\n",
    "             )\n",
    "\n",
    "ax.tick_params(axis='y', which='both', length=0)\n",
    "ax.set_xlim(0,1.1)"
   ]
  }
 ],
 "metadata": {
  "kernelspec": {
   "display_name": "Python 3",
   "language": "python",
   "name": "python3"
  },
  "language_info": {
   "codemirror_mode": {
    "name": "ipython",
    "version": 3
   },
   "file_extension": ".py",
   "mimetype": "text/x-python",
   "name": "python",
   "nbconvert_exporter": "python",
   "pygments_lexer": "ipython3",
   "version": "3.7.7"
  }
 },
 "nbformat": 4,
 "nbformat_minor": 4
}
