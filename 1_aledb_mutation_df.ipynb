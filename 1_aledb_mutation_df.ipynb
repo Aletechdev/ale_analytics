{
 "cells": [
  {
   "cell_type": "code",
   "execution_count": 6,
   "metadata": {
    "execution": {
     "iopub.execute_input": "2021-06-27T02:54:04.160572Z",
     "iopub.status.busy": "2021-06-27T02:54:04.160181Z",
     "iopub.status.idle": "2021-06-27T02:54:04.472132Z",
     "shell.execute_reply": "2021-06-27T02:54:04.471729Z"
    }
   },
   "outputs": [],
   "source": [
    "%matplotlib inline\n",
    "import matplotlib.pyplot as plt\n",
    "import pandas as pd\n",
    "from IPython.display import display\n",
    "import os, sys, itertools, csv\n",
    "module_path = os.path.abspath(os.path.join('..'))\n",
    "if module_path not in sys.path:\n",
    "    sys.path.append(module_path)\n",
    "from mutil.alemutdf import get_all_sample_mut_df, get_multi_exp_max_freq_mut_df\n",
    "from mutil.mut import is_coding_mut\n",
    "from mutil.metadata import get_condition_val_dict, get_condition_field_val_set\n",
    "from mutil.genome import get_K12_pos_from_BOP27"
   ]
  },
  {
   "cell_type": "code",
   "execution_count": 7,
   "metadata": {
    "execution": {
     "iopub.execute_input": "2021-06-27T02:54:04.474798Z",
     "iopub.status.busy": "2021-06-27T02:54:04.474445Z",
     "iopub.status.idle": "2021-06-27T02:54:09.168662Z",
     "shell.execute_reply": "2021-06-27T02:54:09.168296Z"
    },
    "scrolled": true
   },
   "outputs": [
    {
     "name": "stderr",
     "output_type": "stream",
     "text": [
      "100%|██████████| 6/6 [00:00<00:00, 194.63it/s]\n",
      "100%|██████████| 10/10 [00:00<00:00, 306.96it/s]\n",
      "100%|██████████| 4/4 [00:00<00:00, 262.30it/s]\n",
      "100%|██████████| 4/4 [00:00<00:00, 260.92it/s]\n",
      "100%|██████████| 5/5 [00:00<00:00, 249.74it/s]\n",
      "  0%|          | 0/20 [00:00<?, ?it/s]"
     ]
    },
    {
     "name": "stdout",
     "output_type": "stream",
     "text": [
      "./data/muts/pub_growth//MG1655_untreated_mut.csv\n",
      "./data/muts/pub_growth//42C.csv\n",
      "./data/muts/pub_growth//Iron-ALE_mut.csv\n",
      "./data/muts/pub_growth//MG1655-M9-NC_000913_3gb-stationary-37-monomethyl_succinate2_mut.csv\n",
      "./data/muts/pub_growth//gallium-nitrate_mut.csv\n",
      "./data/muts/pub_growth//TOL adipic acid_mut.csv\n"
     ]
    },
    {
     "name": "stderr",
     "output_type": "stream",
     "text": [
      "100%|██████████| 20/20 [00:00<00:00, 182.63it/s]\n",
      "100%|██████████| 6/6 [00:00<00:00, 237.85it/s]\n",
      "100%|██████████| 7/7 [00:00<00:00, 244.38it/s]\n",
      "100%|██████████| 20/20 [00:00<00:00, 270.91it/s]\n",
      "100%|██████████| 8/8 [00:00<00:00, 246.49it/s]\n",
      "  0%|          | 0/67 [00:00<?, ?it/s]"
     ]
    },
    {
     "name": "stdout",
     "output_type": "stream",
     "text": [
      "./data/muts/pub_growth//MG1655-blaTEM1_untreated_mut.csv\n",
      "./data/muts/pub_growth//tpiKO_mut.csv\n",
      "./data/muts/pub_growth//TOL n-butanol_mut.csv\n",
      "./data/muts/pub_growth//pvdJ_KO_P_aeruginosa_spent_medium_mut.csv\n",
      "./data/muts/pub_growth//tpiPAE_mut.csv\n"
     ]
    },
    {
     "name": "stderr",
     "output_type": "stream",
     "text": [
      "100%|██████████| 67/67 [00:00<00:00, 242.86it/s]\n",
      "100%|██████████| 10/10 [00:00<00:00, 312.91it/s]\n",
      "100%|██████████| 20/20 [00:00<00:00, 262.46it/s]\n",
      "  0%|          | 0/24 [00:00<?, ?it/s]"
     ]
    },
    {
     "name": "stdout",
     "output_type": "stream",
     "text": [
      "./data/muts/pub_growth//PGI.csv\n",
      "./data/muts/pub_growth//TOL octanoic acid_mut.csv\n",
      "./data/muts/pub_growth//TOL glutaric acid_mut.csv\n"
     ]
    },
    {
     "name": "stderr",
     "output_type": "stream",
     "text": [
      "100%|██████████| 24/24 [00:00<00:00, 260.01it/s]\n",
      "100%|██████████| 4/4 [00:00<00:00, 265.74it/s]\n",
      "100%|██████████| 8/8 [00:00<00:00, 255.28it/s]\n",
      "100%|██████████| 20/20 [00:00<00:00, 260.29it/s]\n",
      "100%|██████████| 4/4 [00:00<00:00, 246.40it/s]\n",
      "100%|██████████| 1/1 [00:00<00:00, 271.23it/s]\n",
      "  0%|          | 0/20 [00:00<?, ?it/s]"
     ]
    },
    {
     "name": "stdout",
     "output_type": "stream",
     "text": [
      "./data/muts/pub_growth//MG1655-M9-NC_000913_3gb-stationary-37-D-2-deoxyribose2_mut.csv\n",
      "./data/muts/pub_growth//MG1655-M9-NC_000913_3gb-stationary-37-D-lyxose2_mut.csv\n",
      "./data/muts/pub_growth//TOL putrescine_mut.csv\n",
      "./data/muts/pub_growth//WT_P_aeruginosa_spent_medium_mut.csv\n",
      "./data/muts/pub_growth//EG_pCA24N-fucO_mut.csv\n",
      "./data/muts/pub_growth//TOL hexamethylenediamine_mut.csv\n"
     ]
    },
    {
     "name": "stderr",
     "output_type": "stream",
     "text": [
      "100%|██████████| 20/20 [00:00<00:00, 261.94it/s]\n",
      "100%|██████████| 29/29 [00:00<00:00, 312.88it/s]\n",
      "100%|██████████| 6/6 [00:00<00:00, 302.87it/s]\n",
      "  0%|          | 0/35 [00:00<?, ?it/s]"
     ]
    },
    {
     "name": "stdout",
     "output_type": "stream",
     "text": [
      "./data/muts/pub_growth//SSW GLU XYL.csv\n",
      "./data/muts/pub_growth//SER.csv\n",
      "./data/muts/pub_growth//SSW GLU AC.csv\n"
     ]
    },
    {
     "name": "stderr",
     "output_type": "stream",
     "text": [
      "100%|██████████| 35/35 [00:00<00:00, 302.79it/s]\n",
      "100%|██████████| 6/6 [00:00<00:00, 249.55it/s]\n",
      "100%|██████████| 10/10 [00:00<00:00, 245.16it/s]\n",
      "100%|██████████| 2/2 [00:00<00:00, 246.24it/s]\n",
      "100%|██████████| 8/8 [00:00<00:00, 260.45it/s]\n",
      "100%|██████████| 4/4 [00:00<00:00, 308.88it/s]\n",
      "  0%|          | 0/20 [00:00<?, ?it/s]"
     ]
    },
    {
     "name": "stdout",
     "output_type": "stream",
     "text": [
      "./data/muts/pub_growth//MG1655_doxycycline_mut.csv\n",
      "./data/muts/pub_growth//evo_mut.csv\n",
      "./data/muts/pub_growth//JCL260__isobutanol_production_host-M9-MG1655gbk_mut.csv\n",
      "./data/muts/pub_growth//MG1655-M9-NC_000913_3gb-stationary-37-D-arabinose2_mut.csv\n",
      "./data/muts/pub_growth//SSW AC.csv\n",
      "./data/muts/pub_growth//TOL propanediol_mut.csv\n"
     ]
    },
    {
     "name": "stderr",
     "output_type": "stream",
     "text": [
      "100%|██████████| 20/20 [00:00<00:00, 257.21it/s]\n",
      "100%|██████████| 20/20 [00:00<00:00, 264.44it/s]\n",
      "100%|██████████| 10/10 [00:00<00:00, 246.19it/s]\n",
      "100%|██████████| 11/11 [00:00<00:00, 247.83it/s]\n",
      "  0%|          | 0/48 [00:00<?, ?it/s]"
     ]
    },
    {
     "name": "stdout",
     "output_type": "stream",
     "text": [
      "./data/muts/pub_growth//TOL 2,3-butanediol_mut.csv\n",
      "./data/muts/pub_growth//sdh_mut.csv\n",
      "./data/muts/pub_growth//tpiVCH_mut.csv\n",
      "./data/muts/pub_growth//GLU.csv\n"
     ]
    },
    {
     "name": "stderr",
     "output_type": "stream",
     "text": [
      "100%|██████████| 48/48 [00:00<00:00, 239.16it/s]\n",
      "100%|██████████| 24/24 [00:00<00:00, 246.66it/s]\n",
      "100%|██████████| 7/7 [00:00<00:00, 248.48it/s]\n",
      "  0%|          | 0/56 [00:00<?, ?it/s]"
     ]
    },
    {
     "name": "stdout",
     "output_type": "stream",
     "text": [
      "./data/muts/pub_growth//pgiBME_mut.csv\n",
      "./data/muts/pub_growth//MG1655_trimethoprim_mut.csv\n",
      "./data/muts/pub_growth//tpiHSA_mut.csv\n"
     ]
    },
    {
     "name": "stderr",
     "output_type": "stream",
     "text": [
      "100%|██████████| 56/56 [00:00<00:00, 240.91it/s]\n",
      "100%|██████████| 13/13 [00:00<00:00, 309.20it/s]\n",
      " 69%|██████▉   | 25/36 [00:00<00:00, 247.33it/s]"
     ]
    },
    {
     "name": "stdout",
     "output_type": "stream",
     "text": [
      "./data/muts/pub_growth//SSW GLU GLY.csv\n",
      "./data/muts/pub_growth//MG1655-pBGT_ceftazidime_mut.csv\n"
     ]
    },
    {
     "name": "stderr",
     "output_type": "stream",
     "text": [
      "100%|██████████| 36/36 [00:00<00:00, 244.29it/s]\n",
      "100%|██████████| 20/20 [00:00<00:00, 268.47it/s]\n",
      "100%|██████████| 5/5 [00:00<00:00, 239.71it/s]\n",
      "  0%|          | 0/31 [00:00<?, ?it/s]"
     ]
    },
    {
     "name": "stdout",
     "output_type": "stream",
     "text": [
      "./data/muts/pub_growth//TOL hexanoic acid_mut.csv\n",
      "./data/muts/pub_growth//wt_mut.csv\n",
      "./data/muts/pub_growth//application_of_ALE_to_re-optimize_growth_performance_of_genome-reduced_strain_MS56-M9-MG1655gbk_mut.csv\n"
     ]
    },
    {
     "name": "stderr",
     "output_type": "stream",
     "text": [
      "100%|██████████| 31/31 [00:00<00:00, 233.45it/s]\n",
      "100%|██████████| 4/4 [00:00<00:00, 244.34it/s]\n",
      "100%|██████████| 5/5 [00:00<00:00, 237.90it/s]\n",
      "100%|██████████| 1/1 [00:00<00:00, 269.68it/s]\n",
      "100%|██████████| 13/13 [00:00<00:00, 246.70it/s]\n",
      "100%|██████████| 6/6 [00:00<00:00, 247.79it/s]\n",
      "  0%|          | 0/13 [00:00<?, ?it/s]"
     ]
    },
    {
     "name": "stdout",
     "output_type": "stream",
     "text": [
      "./data/muts/pub_growth//pyocyanin_supplemented_medium_mut.csv\n",
      "./data/muts/pub_growth//MG1655_ceftazidime_mut.csv\n",
      "./data/muts/pub_growth//OxidizeME PQ3_mut.csv\n",
      "./data/muts/pub_growth//pgiHSA_mut.csv\n",
      "./data/muts/pub_growth//pgiVCH_mut.csv\n",
      "./data/muts/pub_growth//tpi_mut.csv\n"
     ]
    },
    {
     "name": "stderr",
     "output_type": "stream",
     "text": [
      "100%|██████████| 13/13 [00:00<00:00, 244.59it/s]\n",
      "100%|██████████| 6/6 [00:00<00:00, 244.25it/s]\n",
      "100%|██████████| 20/20 [00:00<00:00, 265.88it/s]\n",
      "100%|██████████| 20/20 [00:00<00:00, 265.93it/s]\n",
      "  0%|          | 0/4 [00:00<?, ?it/s]"
     ]
    },
    {
     "name": "stdout",
     "output_type": "stream",
     "text": [
      "./data/muts/pub_growth//MG1655_chloramphenicol_mut.csv\n",
      "./data/muts/pub_growth//TOL coumaric acid_mut.csv\n",
      "./data/muts/pub_growth//TOL isobutyric acid_mut.csv\n",
      "./data/muts/pub_growth//SSW GLY.csv\n"
     ]
    },
    {
     "name": "stderr",
     "output_type": "stream",
     "text": [
      "100%|██████████| 4/4 [00:00<00:00, 304.03it/s]\n",
      "100%|██████████| 25/25 [00:00<00:00, 242.39it/s]\n",
      "100%|██████████| 4/4 [00:00<00:00, 247.01it/s]\n",
      "100%|██████████| 4/4 [00:00<00:00, 302.42it/s]\n",
      "  0%|          | 0/13 [00:00<?, ?it/s]"
     ]
    },
    {
     "name": "stdout",
     "output_type": "stream",
     "text": [
      "./data/muts/pub_growth//ILT_MG1655_mut.csv\n",
      "./data/muts/pub_growth//untreated_gallium-nitrate.csv\n",
      "./data/muts/pub_growth//SSW XYL.csv\n",
      "./data/muts/pub_growth//pts_mut.csv\n"
     ]
    },
    {
     "name": "stderr",
     "output_type": "stream",
     "text": [
      "100%|██████████| 13/13 [00:00<00:00, 242.69it/s]\n",
      "100%|██████████| 7/7 [00:00<00:00, 263.52it/s]\n",
      "100%|██████████| 1/1 [00:00<00:00, 273.58it/s]\n",
      "100%|██████████| 26/26 [00:00<00:00, 242.32it/s]\n",
      "  0%|          | 0/67 [00:00<?, ?it/s]"
     ]
    },
    {
     "name": "stdout",
     "output_type": "stream",
     "text": [
      "./data/muts/pub_growth//MG1655-M9-NC_000913_3gb-stationary-37-m-tartrate2_mut.csv\n",
      "./data/muts/pub_growth//untreated_pCA24N-fucO_mut.csv\n",
      "./data/muts/pub_growth//pgiPAE_mut.csv\n",
      "./data/muts/pub_growth//GYD.csv\n"
     ]
    },
    {
     "name": "stderr",
     "output_type": "stream",
     "text": [
      "100%|██████████| 67/67 [00:00<00:00, 241.00it/s]\n",
      "100%|██████████| 1/1 [00:00<00:00, 256.74it/s]\n",
      "100%|██████████| 13/13 [00:00<00:00, 245.01it/s]\n",
      " 38%|███▊      | 25/66 [00:00<00:00, 244.75it/s]"
     ]
    },
    {
     "name": "stdout",
     "output_type": "stream",
     "text": [
      "./data/muts/pub_growth//MG1655_anchestor_mut.csv\n",
      "./data/muts/pub_growth//pgiKO_mut.csv\n",
      "./data/muts/pub_growth//pgi_mut.csv\n"
     ]
    },
    {
     "name": "stderr",
     "output_type": "stream",
     "text": [
      "100%|██████████| 66/66 [00:00<00:00, 239.83it/s]\n",
      "100%|██████████| 6/6 [00:00<00:00, 243.37it/s]\n",
      "100%|██████████| 12/12 [00:00<00:00, 310.31it/s]\n",
      "100%|██████████| 5/5 [00:00<00:00, 246.35it/s]\n",
      "100%|██████████| 10/10 [00:00<00:00, 245.45it/s]"
     ]
    },
    {
     "name": "stdout",
     "output_type": "stream",
     "text": [
      "./data/muts/pub_growth//MG1655-pBGT_untreated_mut.csv\n",
      "./data/muts/pub_growth//C13.csv\n",
      "./data/muts/pub_growth//MG1655-blaTEM1_ceftazidime_mut.csv\n",
      "./data/muts/pub_growth//gnd_mut.csv\n"
     ]
    },
    {
     "name": "stderr",
     "output_type": "stream",
     "text": [
      "\n"
     ]
    },
    {
     "data": {
      "text/plain": [
       "{'42C',\n",
       " 'C13',\n",
       " 'EG_pCA24N-fucO',\n",
       " 'GLU',\n",
       " 'GYD',\n",
       " 'ILT_MG1655',\n",
       " 'Iron-ALE',\n",
       " 'JCL260__isobutanol_production_host-M9-MG1655gbk',\n",
       " 'MG1655-M9-NC_000913_3gb-stationary-37-D-2-deoxyribose2',\n",
       " 'MG1655-M9-NC_000913_3gb-stationary-37-D-arabinose2',\n",
       " 'MG1655-M9-NC_000913_3gb-stationary-37-D-lyxose2',\n",
       " 'MG1655-M9-NC_000913_3gb-stationary-37-m-tartrate2',\n",
       " 'MG1655-M9-NC_000913_3gb-stationary-37-monomethyl_succinate2',\n",
       " 'MG1655-blaTEM1_ceftazidime',\n",
       " 'MG1655-blaTEM1_untreated',\n",
       " 'MG1655-pBGT_ceftazidime',\n",
       " 'MG1655-pBGT_untreated',\n",
       " 'MG1655_anchestor',\n",
       " 'MG1655_ceftazidime',\n",
       " 'MG1655_chloramphenicol',\n",
       " 'MG1655_doxycycline',\n",
       " 'MG1655_trimethoprim',\n",
       " 'MG1655_untreated',\n",
       " 'OxidizeME_PQ3',\n",
       " 'PGI',\n",
       " 'SER',\n",
       " 'SSW_AC',\n",
       " 'SSW_GLU_AC',\n",
       " 'SSW_GLU_GLY',\n",
       " 'SSW_GLU_XYL',\n",
       " 'SSW_GLY',\n",
       " 'SSW_XYL',\n",
       " 'TOL_2,3-butanediol',\n",
       " 'TOL_adipic_acid',\n",
       " 'TOL_coumaric_acid',\n",
       " 'TOL_glutaric_acid',\n",
       " 'TOL_hexamethylenediamine',\n",
       " 'TOL_hexanoic_acid',\n",
       " 'TOL_isobutyric_acid',\n",
       " 'TOL_n-butanol',\n",
       " 'TOL_octanoic_acid',\n",
       " 'TOL_propanediol',\n",
       " 'TOL_putrescine',\n",
       " 'WT_P_aeruginosa_spent_medium',\n",
       " 'application_of_ALE_to_re-optimize_growth_performance_of_genome-reduced_strain_MS56-M9-MG1655gbk',\n",
       " 'evo',\n",
       " 'gallium-nitrate',\n",
       " 'gnd',\n",
       " 'pgi',\n",
       " 'pgiBME',\n",
       " 'pgiHSA',\n",
       " 'pgiKO',\n",
       " 'pgiPAE',\n",
       " 'pgiVCH',\n",
       " 'pts',\n",
       " 'pvdJ_KO_P_aeruginosa_spent_medium',\n",
       " 'pyocyanin_supplemented_medium',\n",
       " 'sdh',\n",
       " 'tpi',\n",
       " 'tpiHSA',\n",
       " 'tpiKO',\n",
       " 'tpiPAE',\n",
       " 'tpiVCH',\n",
       " 'untreated_pCA24N-fucO',\n",
       " 'wt'}"
      ]
     },
     "metadata": {},
     "output_type": "display_data"
    }
   ],
   "source": [
    "muts_df = get_all_sample_mut_df(\"./data/muts/pub_growth/\")\n",
    "# unpublished_muts_df = get_all_sample_mut_df(\"./data/muts/unpublished/\")  # I've currently placed GYD into the public mutation set.\n",
    "# muts_df = muts_df.append(unpublished_muts_df)\n",
    "display(set(muts_df[\"exp\"]))"
   ]
  },
  {
   "cell_type": "markdown",
   "metadata": {},
   "source": [
    "Getting number of samples from raw dataset, since by the end of the NB, the samples are flattened into ALEs by the \"ALE-unique mutations\" logic"
   ]
  },
  {
   "cell_type": "code",
   "execution_count": 8,
   "metadata": {
    "execution": {
     "iopub.execute_input": "2021-06-27T02:54:09.172846Z",
     "iopub.status.busy": "2021-06-27T02:54:09.172482Z",
     "iopub.status.idle": "2021-06-27T02:54:09.786781Z",
     "shell.execute_reply": "2021-06-27T02:54:09.786394Z"
    }
   },
   "outputs": [],
   "source": [
    "def get_exp_sample_name(exp_name, ale, flask, isolate, tech_rep):\n",
    "    sample_name = exp_name + \" \" + str(int(ale)) + \" \" + str(int(flask)) + \" \" + str(int(isolate)) + \" \" + str(int(tech_rep))\n",
    "    return sample_name\n",
    "\n",
    "muts_df[\"sample\"] = muts_df.apply(lambda r: get_exp_sample_name(r.exp, r.ale, r.flask, r.isolate, r.tech_rep), axis=1)"
   ]
  },
  {
   "cell_type": "code",
   "execution_count": 9,
   "metadata": {
    "execution": {
     "iopub.execute_input": "2021-06-27T02:54:09.789900Z",
     "iopub.status.busy": "2021-06-27T02:54:09.789548Z",
     "iopub.status.idle": "2021-06-27T02:54:09.793019Z",
     "shell.execute_reply": "2021-06-27T02:54:09.792656Z"
    }
   },
   "outputs": [
    {
     "data": {
      "text/plain": [
       "1017"
      ]
     },
     "execution_count": 9,
     "metadata": {},
     "output_type": "execute_result"
    }
   ],
   "source": [
    "len(muts_df[\"sample\"].unique())"
   ]
  },
  {
   "cell_type": "code",
   "execution_count": 10,
   "metadata": {
    "execution": {
     "iopub.execute_input": "2021-06-27T02:54:09.798166Z",
     "iopub.status.busy": "2021-06-27T02:54:09.795539Z",
     "iopub.status.idle": "2021-06-27T02:54:09.924953Z",
     "shell.execute_reply": "2021-06-27T02:54:09.924587Z"
    }
   },
   "outputs": [
    {
     "data": {
      "text/plain": [
       "0.24287118977384464"
      ]
     },
     "execution_count": 10,
     "metadata": {},
     "output_type": "execute_result"
    }
   ],
   "source": [
    "# Percentage of samples that are populations\n",
    "muts_df[\"sample type\"] = muts_df.apply(lambda r: \"population\" if r[\"isolate\"] == 0 else \"clone\",axis=1)\n",
    "df = muts_df[[\"sample\", \"sample type\"]].copy().drop_duplicates()\n",
    "len(df[df[\"sample type\"]==\"population\"])/len(df)"
   ]
  },
  {
   "cell_type": "code",
   "execution_count": 11,
   "metadata": {
    "execution": {
     "iopub.execute_input": "2021-06-27T02:54:09.927455Z",
     "iopub.status.busy": "2021-06-27T02:54:09.927040Z",
     "iopub.status.idle": "2021-06-27T02:54:09.929064Z",
     "shell.execute_reply": "2021-06-27T02:54:09.929401Z"
    }
   },
   "outputs": [
    {
     "data": {
      "text/plain": [
       "22000"
      ]
     },
     "execution_count": 11,
     "metadata": {},
     "output_type": "execute_result"
    }
   ],
   "source": [
    "len(muts_df)"
   ]
  },
  {
   "cell_type": "code",
   "execution_count": 12,
   "metadata": {
    "execution": {
     "iopub.execute_input": "2021-06-27T02:54:09.943681Z",
     "iopub.status.busy": "2021-06-27T02:54:09.943325Z",
     "iopub.status.idle": "2021-06-27T02:54:09.946828Z",
     "shell.execute_reply": "2021-06-27T02:54:09.946523Z"
    }
   },
   "outputs": [],
   "source": [
    "# Different experiments have different strings for position (some with commas, some without), therefore going ahead and changing them all to integers\n",
    "muts_df.Position = muts_df.Position.apply(lambda x: int(str(x).replace(\",\",\"\")))\n",
    "muts_df.Position = muts_df.Position.astype(int)"
   ]
  },
  {
   "cell_type": "code",
   "execution_count": 13,
   "metadata": {
    "execution": {
     "iopub.execute_input": "2021-06-27T02:54:09.949674Z",
     "iopub.status.busy": "2021-06-27T02:54:09.949289Z",
     "iopub.status.idle": "2021-06-27T02:54:10.258327Z",
     "shell.execute_reply": "2021-06-27T02:54:10.257800Z"
    }
   },
   "outputs": [],
   "source": [
    "# ensure all mutations are using NC_000913 positions.\n",
    "genome_pos_transform_exp_l = [\n",
    "    \"ERS\",\n",
    "]\n",
    "muts_df.Position = muts_df.apply(lambda row: get_K12_pos_from_BOP27(row.Position) if row.exp in genome_pos_transform_exp_l else row.Position, axis=1)"
   ]
  },
  {
   "cell_type": "code",
   "execution_count": 14,
   "metadata": {
    "execution": {
     "iopub.execute_input": "2021-06-27T02:54:10.263624Z",
     "iopub.status.busy": "2021-06-27T02:54:10.263142Z",
     "iopub.status.idle": "2021-06-27T02:54:10.265378Z",
     "shell.execute_reply": "2021-06-27T02:54:10.264873Z"
    }
   },
   "outputs": [],
   "source": [
    "# removing unnecessary column\n",
    "muts_df = muts_df.drop(columns=[\"Mut ID\"])"
   ]
  },
  {
   "cell_type": "code",
   "execution_count": 15,
   "metadata": {
    "execution": {
     "iopub.execute_input": "2021-06-27T02:54:10.268193Z",
     "iopub.status.busy": "2021-06-27T02:54:10.267761Z",
     "iopub.status.idle": "2021-06-27T02:54:10.284545Z",
     "shell.execute_reply": "2021-06-27T02:54:10.284111Z"
    }
   },
   "outputs": [],
   "source": [
    "muts_df.to_pickle(\"./data/1_df.pkl\")"
   ]
  },
  {
   "cell_type": "code",
   "execution_count": 16,
   "metadata": {
    "execution": {
     "iopub.execute_input": "2021-06-27T02:54:10.287175Z",
     "iopub.status.busy": "2021-06-27T02:54:10.286714Z",
     "iopub.status.idle": "2021-06-27T02:54:10.289158Z",
     "shell.execute_reply": "2021-06-27T02:54:10.288762Z"
    }
   },
   "outputs": [
    {
     "data": {
      "text/plain": [
       "22000"
      ]
     },
     "execution_count": 16,
     "metadata": {},
     "output_type": "execute_result"
    }
   ],
   "source": [
    "len(muts_df)"
   ]
  }
 ],
 "metadata": {
  "kernelspec": {
   "display_name": "Python 3",
   "language": "python",
   "name": "python3"
  },
  "language_info": {
   "codemirror_mode": {
    "name": "ipython",
    "version": 3
   },
   "file_extension": ".py",
   "mimetype": "text/x-python",
   "name": "python",
   "nbconvert_exporter": "python",
   "pygments_lexer": "ipython3",
   "version": "3.7.7"
  }
 },
 "nbformat": 4,
 "nbformat_minor": 4
}
